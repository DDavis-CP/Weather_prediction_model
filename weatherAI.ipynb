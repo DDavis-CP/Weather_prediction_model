{
 "cells": [
  {
   "cell_type": "markdown",
   "metadata": {},
   "source": [
    "#Weather API + Weather Observations Machine Learning exercise "
   ]
  },
  {
   "cell_type": "code",
   "execution_count": 2,
   "metadata": {},
   "outputs": [],
   "source": [
    "# Install modules to interact with weather API\n",
    "import requests\n",
    "import os\n",
    "import pandas as pd\n",
    "from dotenv import load_dotenv\n",
    "from sklearn.model_selection import train_test_split\n",
    "from sklearn.preprocessing import StandardScaler, LabelEncoder\n",
    "from sklearn.neighbors import KNeighborsRegressor\n",
    "from sklearn.metrics import mean_squared_error\n",
    "import datetime as dt"
   ]
  },
  {
   "cell_type": "code",
   "execution_count": 3,
   "metadata": {},
   "outputs": [
    {
     "name": "stdout",
     "output_type": "stream",
     "text": [
      "Model Accuracy: 0.88\n",
      "Predicted Temperature for Tomorrow: 25.08°F\n"
     ]
    }
   ],
   "source": [
    "try:\n",
    "    # Load API key from .env file\n",
    "    load_dotenv()\n",
    "    API_KEY = os.getenv('API_KEY')\n",
    "\n",
    "    # Collect weather data for the last 6 months\n",
    "    weather_data_days = []\n",
    "    for i in range(180):\n",
    "        # Initialize date and format for the API\n",
    "        date = dt.datetime.now() - dt.timedelta(days=i)\n",
    "        formatted_date = date.strftime(\"%Y-%m-%d\")\n",
    "        \n",
    "        # API request\n",
    "        response = requests.get(f'http://api.weatherapi.com/v1/history.json?key={API_KEY}&q=02453&dt={formatted_date}')\n",
    "        if response.status_code == 200:\n",
    "            response_data = response.json()\n",
    "            forecast = response_data[\"forecast\"][\"forecastday\"][0]\n",
    "            # print(forecast)\n",
    "            weather_data_days.append({\n",
    "                # \"Date\": forecast[\"date\"],\n",
    "                \"date_epoch\": forecast[\"date_epoch\"],\n",
    "                \"Temperature\": forecast[\"day\"][\"avgtemp_f\"],\n",
    "                \"Precipitation\": forecast[\"day\"][\"totalprecip_in\"],\n",
    "                \"Cloud cover\": forecast[\"day\"][\"condition\"][\"text\"]\n",
    "            })\n",
    "        else:\n",
    "            print(f\"Failed to fetch weather data for {formatted_date}. Status code: {response.status_code}\")\n",
    "    # Convert collected weather data to a DataFrame\n",
    "    if weather_data_days:\n",
    "        weather_data_df = pd.DataFrame(weather_data_days)\n",
    "    else:\n",
    "        raise ValueError(\"No weather data collected. Please check API responses.\")\n",
    "\n",
    "    # Load historical weather data if available\n",
    "    try:\n",
    "        historical_weather_data = pd.read_csv('historical_weather_data.csv')\n",
    "        all_weather_data = pd.concat([weather_data_df, historical_weather_data], ignore_index=True)\n",
    "    except FileNotFoundError:\n",
    "        print(\"No historical weather data found. Using only collected data.\")\n",
    "        all_weather_data = weather_data_df\n",
    "\n",
    "    # Encode \"Cloud cover\" to numeric values\n",
    "    label_encoder = LabelEncoder()\n",
    "    all_weather_data[\"Cloud cover\"] = label_encoder.fit_transform(all_weather_data[\"Cloud cover\"])\n",
    "\n",
    "    # Features and target\n",
    "    X = all_weather_data[[\"Temperature\",\"date_epoch\",\"Precipitation\", \"Cloud cover\"]]\n",
    "    y = all_weather_data[\"Temperature\"].shift(-1)  # Predict next day's temperature\n",
    "\n",
    "    # Drop the last row of X and y to ensure they match in size\n",
    "    X = X.iloc[:-1]\n",
    "    y = y.iloc[:-1]\n",
    "\n",
    "    # Handle NaNs in X\n",
    "    if X.isna().sum().sum() > 0:\n",
    "        print(\"Handling NaNs in X...\")\n",
    "        X = X.fillna(\"\")  # Replace NaNs with the column mean\n",
    "\n",
    "    # Handle NaNs in y (if applicable)\n",
    "    if y.isna().sum() > 0:\n",
    "        print(\"Handling NaNs in y...\")\n",
    "        y = y.fillna(\"\")  # Replace NaNs with the mean value of y\n",
    "\n",
    "    # Normalize features\n",
    "    scaler = StandardScaler()\n",
    "    X_scaled = scaler.fit_transform(X)\n",
    "\n",
    "    # Train-test split\n",
    "    X_train, X_test, y_train, y_test = train_test_split(X_scaled, y, test_size=0.2, random_state=42)\n",
    "\n",
    "\n",
    "    # Train k-NN model\n",
    "    knn = KNeighborsRegressor(n_neighbors=5)\n",
    "    knn.fit(X_train, y_train)\n",
    "\n",
    "    # Evaluate the model\n",
    "    accuracy = knn.score(X_test, y_test)\n",
    "    print(f\"Model Accuracy: {accuracy:.2f}\")\n",
    "\n",
    "    # Predict tomorrow's temperature\n",
    "    tomorrow_features = X_scaled[-1].reshape(1, -1)  # Use the last available row\n",
    "    tomorrow_prediction = knn.predict(tomorrow_features)\n",
    "    print(f\"Predicted Temperature for Tomorrow: {tomorrow_prediction[0]:.2f}°F\")\n",
    "\n",
    "except Exception as e:\n",
    "    print(f\"An error occurred: {e}\")\n",
    "\n",
    "   "
   ]
  },
  {
   "cell_type": "markdown",
   "metadata": {},
   "source": [
    "Date,date_epoch,Temperature,Cloud cover,Precipitation\n",
    "2025-01-16,1737028800,5,Clear,0\n",
    "2025-01-16,1737054000,28,Partly Cloudy,0\n",
    "2025-01-16,1737079200,17,Cloudy,0\n",
    "2025-01-17,1737115200,7,Clear,0\n",
    "2025-01-17,1737140400,30,Partly Cloudy,0\n",
    "2025-01-17,1737165600,19,Cloudy,0\n",
    "2025-01-18,1737201600,10,Clear,0\n",
    "2025-01-18,1737226800,32,Partly Cloudy,0\n",
    "2025-01-18,1737252000,22,Cloudy,0"
   ]
  }
 ],
 "metadata": {
  "kernelspec": {
   "display_name": ".venv",
   "language": "python",
   "name": "python3"
  },
  "language_info": {
   "codemirror_mode": {
    "name": "ipython",
    "version": 3
   },
   "file_extension": ".py",
   "mimetype": "text/x-python",
   "name": "python",
   "nbconvert_exporter": "python",
   "pygments_lexer": "ipython3",
   "version": "3.13.1"
  }
 },
 "nbformat": 4,
 "nbformat_minor": 2
}
